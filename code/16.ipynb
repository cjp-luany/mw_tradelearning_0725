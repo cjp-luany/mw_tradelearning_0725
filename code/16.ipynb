{
 "cells": [
  {
   "cell_type": "code",
   "execution_count": null,
   "id": "2d39a055",
   "metadata": {
    "vscode": {
     "languageId": "plaintext"
    }
   },
   "outputs": [],
   "source": [
    "# 给家人配置基金代码\n",
    "\n",
    "25% 美股黄金红利债券\n",
    "\n",
    "美股\n",
    "    纳斯达克 10%  334  016057\n",
    "    标普 15% 500 006075\n",
    "黄金 25% 833 000307\n",
    "红利 25% 834 008164   -- 020603\n",
    "债券 25% 833 001061 "
   ]
  }
 ],
 "metadata": {
  "language_info": {
   "name": "python"
  }
 },
 "nbformat": 4,
 "nbformat_minor": 5
}

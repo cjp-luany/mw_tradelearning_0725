{
 "cells": [
  {
   "cell_type": "code",
   "execution_count": null,
   "id": "7daf5991-706d-4247-bec6-2ce342dc47a9",
   "metadata": {},
   "outputs": [],
   "source": [
    "# requirements\n",
    "pip install rich\n",
    "pip install tabulate"
   ]
  },
  {
   "cell_type": "code",
   "execution_count": null,
   "id": "0177bf16-9e35-45ca-84d4-0e8258ae6f40",
   "metadata": {},
   "outputs": [],
   "source": [
    "# ai识别分期 银行卡\n",
    "\n",
    "# 调用api接口\n",
    "# 设定提示词\n",
    "# 获取结果\n",
    "# 保存为csv"
   ]
  },
  {
   "cell_type": "code",
   "execution_count": null,
   "id": "7e3f7fb2-c459-469e-b990-64020f853d9f",
   "metadata": {},
   "outputs": [],
   "source": [
    "# 输入年份，绘制12个月份图表"
   ]
  },
  {
   "cell_type": "code",
   "execution_count": null,
   "id": "ea552780-93dc-46a0-b219-2f3e141e3759",
   "metadata": {},
   "outputs": [],
   "source": [
    "# 指定beancount 路径\n",
    "# 输入beancount账户\n",
    "# 转化为beancount文件"
   ]
  },
  {
   "cell_type": "code",
   "execution_count": null,
   "id": "7fe3dbe6-5d2b-4c1d-acf3-5beb37408499",
   "metadata": {},
   "outputs": [],
   "source": [
    "# 打开beancount查看"
   ]
  },
  {
   "cell_type": "code",
   "execution_count": null,
   "id": "a3236554-0772-422f-aa44-81da823d2bb6",
   "metadata": {},
   "outputs": [],
   "source": [
    "# 打开数据库，单条录入测试，结合fastapi\n",
    "\n",
    "# 服务器部署\n",
    "\n",
    "# 移动端快捷指令"
   ]
  },
  {
   "cell_type": "code",
   "execution_count": null,
   "id": "08f77379-836e-452f-bef2-0e3649245764",
   "metadata": {},
   "outputs": [],
   "source": [
    "# 输入 两个月份 绘制图表"
   ]
  }
 ],
 "metadata": {
  "kernelspec": {
   "display_name": "Python 3 (ipykernel)",
   "language": "python",
   "name": "python3"
  },
  "language_info": {
   "codemirror_mode": {
    "name": "ipython",
    "version": 3
   },
   "file_extension": ".py",
   "mimetype": "text/x-python",
   "name": "python",
   "nbconvert_exporter": "python",
   "pygments_lexer": "ipython3",
   "version": "3.10.12"
  }
 },
 "nbformat": 4,
 "nbformat_minor": 5
}
